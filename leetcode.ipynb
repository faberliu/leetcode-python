{
 "cells": [
  {
   "cell_type": "markdown",
   "metadata": {},
   "source": [
    "# 01 two sum"
   ]
  },
  {
   "cell_type": "code",
   "execution_count": null,
   "metadata": {},
   "outputs": [],
   "source": [
    "class Solution:\n",
    "    def twoSum(self, nums: List[int], target: int) -> List[int]:\n",
    "        temp = {}\n",
    "        length = len(nums)\n",
    "        for i in range(length):\n",
    "            need = target - nums[i]\n",
    "            if need in temp:\n",
    "                return [temp[need],i]\n",
    "            temp[nums[i]]=i\n",
    "        return []"
   ]
  },
  {
   "cell_type": "markdown",
   "metadata": {},
   "source": [
    "# 703 数据流中的第k大元素"
   ]
  },
  {
   "cell_type": "code",
   "execution_count": null,
   "metadata": {},
   "outputs": [],
   "source": [
    "import heapq\n",
    "\n",
    "class KthLargest:\n",
    "    def __init__(self, k: int, nums: List[int]):\n",
    "        self.k = k\n",
    "        self.heap = nums\n",
    "        heapq.heapify(self.heap)\n",
    "        while(len(self.heap) > self.k):\n",
    "            heapq.heappop(self.heap)\n",
    "                \n",
    "    def add(self, val: int) -> int:\n",
    "        if len(self.heap) < k:\n",
    "            heapq.heappush(self.heap, val)\n",
    "        elif val > heapq.heap[0]:\n",
    "            heapq.heapreplace(self.heap, val)\n",
    "        return self.heap[0]"
   ]
  },
  {
   "cell_type": "markdown",
   "metadata": {},
   "source": [
    "# 239 滑动窗口最大值\n",
    "### 解体思路\n",
    "- 使用一个双向队列存储元素的索引值\n",
    "- 滑动窗口，每次滑动进行以下操作\n",
    "    - 检测最左边索引是否需要移除\n",
    "    - 将滑动后的新值从双向队列右边依次往左比较，将小于新值的元素对应的索引弹出\n",
    "    - 从右边压入新值\n",
    "    - 若已超出窗口大小，最左边的即为当前窗口最大值，追加到输出列表"
   ]
  },
  {
   "cell_type": "code",
   "execution_count": null,
   "metadata": {},
   "outputs": [],
   "source": [
    "class Solution:\n",
    "    def maxSlidingWindow(self, nums: List[int], k: int) -> List[int]:\n",
    "        if not nums:\n",
    "            return []\n",
    "        window, res = [], []\n",
    "        for i,v in enumerate(nums):\n",
    "            if i > k - 1 and window[0] < i + 1 - k:\n",
    "                window.pop(0)\n",
    "            while window and nums[window[-1]] < v:\n",
    "                window.pop()\n",
    "            window.append(i)\n",
    "            if i >= k - 1:\n",
    "                res.append(nums[window[0]])\n",
    "        return res\n",
    "        "
   ]
  },
  {
   "cell_type": "markdown",
   "metadata": {},
   "source": [
    "# 242 Valid Anagram\n",
    "```\n",
    "Given two strings s and t , write a function to determine if t is an anagram of s.\n",
    "\n",
    "Example 1:\n",
    "\n",
    "Input: s = \"anagram\", t = \"nagaram\"\n",
    "Output: true\n",
    "Example 2:\n",
    "\n",
    "Input: s = \"rat\", t = \"car\"\n",
    "Output: false\n",
    "Note:\n",
    "You may assume the string contains only lowercase alphabets.\n",
    "\n",
    "Follow up:\n",
    "What if the inputs contain unicode characters? How would you adapt your solution to such case?\n",
    "```"
   ]
  },
  {
   "cell_type": "markdown",
   "metadata": {},
   "source": [
    "#### 解题思路1\n",
    "- 将两个词进行排序，比较排序结果"
   ]
  },
  {
   "cell_type": "code",
   "execution_count": 2,
   "metadata": {},
   "outputs": [],
   "source": [
    "class Solution:\n",
    "    def isAnagram(self, s: str, t: str) -> bool:\n",
    "        return sorted(s) == sorted(t)"
   ]
  },
  {
   "cell_type": "markdown",
   "metadata": {},
   "source": [
    "#### 解题思路2\n",
    "- 将每个词中各个字母出现的个数保存到map中，比较各个词的频次是否相等"
   ]
  },
  {
   "cell_type": "code",
   "execution_count": 4,
   "metadata": {},
   "outputs": [],
   "source": [
    "from collections import defaultdict\n",
    "class Solution:\n",
    "    def isAnagram(self, s: str, t: str) -> bool:\n",
    "        dict1, dict2 = defaultdict(int), defaultdict(int)\n",
    "        for c in s:\n",
    "            dict1[c] += 1\n",
    "        for c in t:\n",
    "            dict2[c] += 1\n",
    "        return dict1 == dict2"
   ]
  },
  {
   "cell_type": "markdown",
   "metadata": {},
   "source": [
    "#### 解题思路3\n",
    "- 将每个词中各个字母出现的频次保存到一个长度为26的数组中，下标即为字母的相对位置"
   ]
  },
  {
   "cell_type": "code",
   "execution_count": 5,
   "metadata": {},
   "outputs": [],
   "source": [
    "class Solution:\n",
    "    def isAnagram(self, s: str, t: str) -> bool:\n",
    "        dict1, dict2 = [0] * 26, [0] * 26\n",
    "        for c in s:\n",
    "            dict1[ord(c) - ord('a')] += 1\n",
    "        for c in t:\n",
    "            dict2[ord(c) - ord('a')] += 1\n",
    "        return dict1 == dict2"
   ]
  },
  {
   "cell_type": "markdown",
   "metadata": {},
   "source": [
    "#### 解题思路4\n",
    "- 先获取s中的字母，再计算每个词中各个字母出现的频次，比较是否相等"
   ]
  },
  {
   "cell_type": "code",
   "execution_count": null,
   "metadata": {},
   "outputs": [],
   "source": [
    "class Solution:\n",
    "    def isAnagram(self, s: str, t: str) -> bool:\n",
    "        if len(s) != len(t):\n",
    "            return False\n",
    "        set_s = set(s)\n",
    "        for c in set_s:\n",
    "            if s.count(c) != t.count(c):\n",
    "                return False\n",
    "        return True"
   ]
  }
 ],
 "metadata": {
  "kernelspec": {
   "display_name": "Python 3",
   "language": "python",
   "name": "python3"
  },
  "language_info": {
   "codemirror_mode": {
    "name": "ipython",
    "version": 3
   },
   "file_extension": ".py",
   "mimetype": "text/x-python",
   "name": "python",
   "nbconvert_exporter": "python",
   "pygments_lexer": "ipython3",
   "version": "3.7.2"
  }
 },
 "nbformat": 4,
 "nbformat_minor": 2
}
